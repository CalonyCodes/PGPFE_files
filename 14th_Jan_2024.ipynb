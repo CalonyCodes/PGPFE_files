{
  "nbformat": 4,
  "nbformat_minor": 0,
  "metadata": {
    "colab": {
      "provenance": [],
      "authorship_tag": "ABX9TyM8hnDq5aIObr3YPzViElDg",
      "include_colab_link": true
    },
    "kernelspec": {
      "name": "python3",
      "display_name": "Python 3"
    },
    "language_info": {
      "name": "python"
    }
  },
  "cells": [
    {
      "cell_type": "markdown",
      "metadata": {
        "id": "view-in-github",
        "colab_type": "text"
      },
      "source": [
        "<a href=\"https://colab.research.google.com/github/CalonyCodes/PGPFE_files/blob/main/14th_Jan_2024.ipynb\" target=\"_parent\"><img src=\"https://colab.research.google.com/assets/colab-badge.svg\" alt=\"Open In Colab\"/></a>"
      ]
    },
    {
      "cell_type": "code",
      "execution_count": 1,
      "metadata": {
        "id": "7WLjAl4szV9S"
      },
      "outputs": [],
      "source": [
        "import numpy as np\n",
        "import pandas as pd"
      ]
    },
    {
      "cell_type": "code",
      "source": [
        "def add (a,b):\n",
        "  c = a + b\n",
        "  print('The Addition is: ',c)\n",
        "  return c"
      ],
      "metadata": {
        "id": "zVZQzvHR0PDx"
      },
      "execution_count": 2,
      "outputs": []
    },
    {
      "cell_type": "code",
      "source": [
        "add (5,10)"
      ],
      "metadata": {
        "colab": {
          "base_uri": "https://localhost:8080/"
        },
        "id": "S-6CAXBo1Fo8",
        "outputId": "ca3066aa-b5be-4a4f-987d-143c3074dce7"
      },
      "execution_count": 3,
      "outputs": [
        {
          "output_type": "stream",
          "name": "stdout",
          "text": [
            "The Addition is:  15\n"
          ]
        },
        {
          "output_type": "execute_result",
          "data": {
            "text/plain": [
              "15"
            ]
          },
          "metadata": {},
          "execution_count": 3
        }
      ]
    },
    {
      "cell_type": "code",
      "source": [
        "global x\n",
        "x = 10"
      ],
      "metadata": {
        "id": "DX8OLep51KuH"
      },
      "execution_count": 8,
      "outputs": []
    },
    {
      "cell_type": "code",
      "source": [
        "# To create function that can take multiple values in a parameter\n",
        "def multiple (*a):\n",
        "  temp1 = a[3]\n",
        "  temp2 = a[4]\n",
        "  print(temp1,temp2)"
      ],
      "metadata": {
        "id": "ZVwMi6Z12Hmm"
      },
      "execution_count": 18,
      "outputs": []
    },
    {
      "cell_type": "code",
      "source": [
        "Test = [1,2,3,4,5,6,7,8,9,10]"
      ],
      "metadata": {
        "id": "OWCTrZwX2VDt"
      },
      "execution_count": 19,
      "outputs": []
    },
    {
      "cell_type": "code",
      "source": [
        "Test[4]"
      ],
      "metadata": {
        "colab": {
          "base_uri": "https://localhost:8080/"
        },
        "id": "w8okdCI82XKJ",
        "outputId": "7ecb95cc-f83e-486d-f48f-9db807daaf1c"
      },
      "execution_count": 20,
      "outputs": [
        {
          "output_type": "execute_result",
          "data": {
            "text/plain": [
              "5"
            ]
          },
          "metadata": {},
          "execution_count": 20
        }
      ]
    },
    {
      "cell_type": "code",
      "source": [
        "multiple(*Test)"
      ],
      "metadata": {
        "colab": {
          "base_uri": "https://localhost:8080/"
        },
        "id": "j2VIATsT3XNs",
        "outputId": "cc8397b0-5b65-4350-82b1-284951e078e5"
      },
      "execution_count": 21,
      "outputs": [
        {
          "output_type": "stream",
          "name": "stdout",
          "text": [
            "4 5\n"
          ]
        }
      ]
    },
    {
      "cell_type": "code",
      "source": [],
      "metadata": {
        "id": "REpFHO274N4b"
      },
      "execution_count": null,
      "outputs": []
    }
  ]
}